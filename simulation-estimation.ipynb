{
 "cells": [
  {
   "cell_type": "code",
   "execution_count": 1,
   "id": "957228d8",
   "metadata": {},
   "outputs": [],
   "source": [
    "import pandas_datareader.data as web\n",
    "from datetime import datetime, timedelta\n",
    "import pandas as pd\n",
    "import matplotlib.pyplot as plt\n",
    "from arch import arch_model\n",
    "from statsmodels.graphics.tsaplots import plot_acf, plot_pacf\n",
    "import numpy as np\n",
    "import warnings\n",
    "import math\n",
    "import scipy.optimize as opt\n",
    "import random\n",
    "from functools import partial\n",
    "import scipy\n",
    "from scipy import stats\n",
    "import statsmodels.api as sm\n",
    "from statsmodels.stats.stattools import jarque_bera\n",
    "from random import gauss\n",
    "warnings.filterwarnings(\"ignore\")\n",
    "import yfinance as yf"
   ]
  },
  {
   "cell_type": "markdown",
   "id": "129069ca",
   "metadata": {},
   "source": [
    "# J matrix"
   ]
  },
  {
   "cell_type": "code",
   "execution_count": 2,
   "id": "bcd3231f",
   "metadata": {},
   "outputs": [],
   "source": [
    "def J(eps, sigma, beta):\n",
    "    n = len(eps)\n",
    "    theta = np.array([1/(1-beta),0,0])\n",
    "    J = np.zeros((3,3))\n",
    "    for i in range(1,len(eps)):\n",
    "        for j in range(i):\n",
    "            theta[1] += (beta**i) * (eps[i-j-1]**2)\n",
    "            theta[2] += (beta**i) * (sigma[i-j-1]**2)\n",
    "        thetat = np.array([theta]).transpose()\n",
    "        J+= np.dot(thetat, [theta])/(sigma[i]**2)\n",
    "        theta[1] = 0\n",
    "        theta[2] = 0\n",
    "    return J/n"
   ]
  },
  {
   "cell_type": "code",
   "execution_count": 3,
   "id": "ebb2ce1d",
   "metadata": {},
   "outputs": [],
   "source": [
    "def built_in_estimation(X):\n",
    "    model = arch_model(X, p=1, q=1, dist='StudentsT')\n",
    "    model_fit = model.fit(update_freq=5, disp='off')\n",
    "    return model_fit.params['omega'], model_fit.params['alpha[1]'], model_fit.params['beta[1]']"
   ]
  },
  {
   "cell_type": "code",
   "execution_count": 4,
   "id": "8954a4d0",
   "metadata": {},
   "outputs": [],
   "source": [
    "def simulate_GARCH(n, omega, alpha, beta=0):\n",
    "    \n",
    "    # Initialize our values\n",
    "    sigma1 = math.sqrt(omega / (1 - alpha - beta))\n",
    "    X = np.ndarray(n)\n",
    "    sigma = np.ndarray(n)\n",
    "    sigma[0] = sigma1\n",
    "    theta = np.zeros(3)\n",
    "    theta[0] = 1/(1-beta)\n",
    "    for t in range(1, n):\n",
    "        # Draw the next x_t\n",
    "        X[t - 1] = sigma[t - 1] * np.random.normal(0, 1)\n",
    "        # Draw the next sigma_t\n",
    "        sigma[t] = math.sqrt(omega + beta * sigma[t - 1]**2 + alpha * X[t - 1]**2)\n",
    "        \n",
    "    X[n - 1] = sigma[n - 1] * np.random.normal(0, 1)    \n",
    "    \n",
    "    return X, sigma"
   ]
  },
  {
   "cell_type": "code",
   "execution_count": 5,
   "id": "932a8676",
   "metadata": {},
   "outputs": [],
   "source": [
    "X, _ = simulate_GARCH(n= 1000, omega = 0.1, alpha = 0.3, beta = 0.1)\n",
    "X = X[100:]"
   ]
  },
  {
   "cell_type": "code",
   "execution_count": 6,
   "id": "2301d43d",
   "metadata": {},
   "outputs": [],
   "source": [
    "# Here's function to compute the sigmas given the initial guess\n",
    "def compute_squared_sigmas(X, initial_sigma, theta):\n",
    "    \n",
    "    w = theta[0]\n",
    "    a1 = theta[1]\n",
    "    b1 = theta[2]\n",
    "    \n",
    "    T = len(X)\n",
    "    sigma2 = np.ndarray(T)\n",
    "    \n",
    "    sigma2[0] = initial_sigma ** 2\n",
    "    \n",
    "    for t in range(1, T):\n",
    "        # Here's where we apply the equation\n",
    "        sigma2[t] = w + a1 * X[t-1]**2 + b1 * sigma2[t-1]\n",
    "    \n",
    "    return sigma2"
   ]
  },
  {
   "cell_type": "code",
   "execution_count": 7,
   "id": "79098c31",
   "metadata": {},
   "outputs": [],
   "source": [
    "def negative_log_likelihood(X, theta):\n",
    "    \n",
    "    T = len(X)\n",
    "    \n",
    "    # Estimate initial sigma squared\n",
    "    initial_sigma = np.sqrt(np.mean(X ** 2))\n",
    "    \n",
    "    # Generate the squared sigma values\n",
    "    sigma2 = compute_squared_sigmas(X, initial_sigma, theta)\n",
    "    \n",
    "    # Now actually compute\n",
    "    return -sum(\n",
    "        [-np.log(np.sqrt(2.0 * np.pi)) -\n",
    "        (X[t] ** 2) / (2.0 * sigma2[t]) -\n",
    "        0.5 * np.log(sigma2[t]) for\n",
    "         t in range(T)]\n",
    "    )"
   ]
  },
  {
   "cell_type": "code",
   "execution_count": 8,
   "id": "74fd30a7",
   "metadata": {},
   "outputs": [
    {
     "name": "stdout",
     "output_type": "stream",
     "text": [
      "theta MLE: [0.06911283 0.32335322 0.2332362 ]\n"
     ]
    }
   ],
   "source": [
    "objective = partial(negative_log_likelihood, X)\n",
    "\n",
    "# Define the constraints for our minimizer\n",
    "def constraint1(theta):\n",
    "    return np.array([1 - (theta[1] + theta[2])])\n",
    "\n",
    "def constraint2(theta):\n",
    "    return np.array([theta[1]])\n",
    "\n",
    "def constraint3(theta):\n",
    "    return np.array([theta[2]])\n",
    "\n",
    "cons = ({'type': 'ineq', 'fun': constraint1},\n",
    "        {'type': 'ineq', 'fun': constraint2},\n",
    "        {'type': 'ineq', 'fun': constraint3})\n",
    "\n",
    "# Actually do the minimization\n",
    "result = scipy.optimize.minimize(objective, (1, 0.5, 0.5),\n",
    "                        method='SLSQP',\n",
    "                        constraints = cons)\n",
    "theta_mle = result.x\n",
    "print('theta MLE: ' + str(result.x))"
   ]
  },
  {
   "cell_type": "code",
   "execution_count": 9,
   "id": "d24cbc2d",
   "metadata": {},
   "outputs": [],
   "source": [
    "def garch_estimation(X):\n",
    "    objective = partial(negative_log_likelihood, X)\n",
    "    cons = ({'type': 'ineq', 'fun': constraint1},\n",
    "    {'type': 'ineq', 'fun': constraint2},\n",
    "    {'type': 'ineq', 'fun': constraint3})\n",
    "    result = scipy.optimize.minimize(objective, (1, 0.5, 0.5),\n",
    "                        method='SLSQP',\n",
    "                        constraints = cons)\n",
    "    return   result.x[0], result.x[1], result.x[2]"
   ]
  },
  {
   "cell_type": "code",
   "execution_count": 10,
   "id": "b1db6b9b",
   "metadata": {},
   "outputs": [
    {
     "data": {
      "text/plain": [
       "array([ 3.22327561, -5.5322297 , -0.74746689, ..., -2.66164779,\n",
       "        1.16506873,  0.62921784])"
      ]
     },
     "execution_count": 10,
     "metadata": {},
     "output_type": "execute_result"
    }
   ],
   "source": [
    "Data = pd.read_csv('/Users/gosa/Downloads/process.csv')\n",
    "Data = np.array(Data['x'])\n",
    "Data = Data[5:]\n",
    "Data"
   ]
  },
  {
   "cell_type": "code",
   "execution_count": 11,
   "id": "ae00755d",
   "metadata": {},
   "outputs": [],
   "source": [
    "omega, alpha, beta = garch_estimation(X = Data)"
   ]
  },
  {
   "cell_type": "code",
   "execution_count": 12,
   "id": "05573936",
   "metadata": {},
   "outputs": [],
   "source": [
    "def moments(array):\n",
    "    mean = sum(array)/len(array)\n",
    "    var = 0\n",
    "    for element in array:\n",
    "        var+= (mean - element)**2\n",
    "    var = np.sqrt(var)/(len(array)-1)\n",
    "    return mean, var"
   ]
  },
  {
   "cell_type": "code",
   "execution_count": 13,
   "id": "bc0cb40b",
   "metadata": {},
   "outputs": [
    {
     "name": "stdout",
     "output_type": "stream",
     "text": [
      "1.0386346541198863\n"
     ]
    }
   ],
   "source": [
    "print(omega)"
   ]
  },
  {
   "cell_type": "markdown",
   "id": "31349a8c",
   "metadata": {},
   "source": [
    "### We simulate GARCH processes using a function simulate_GARCH(n, omega, alpha, beta=0) and simular parameters  $\\theta = (\\omega,\\alpha,\\beta) $ , then we estimate a set of parameters $\\theta = (\\omega, \\alpha,\\beta )$ for each process, using a function garch_estimation(X). "
   ]
  },
  {
   "cell_type": "code",
   "execution_count": 16,
   "id": "8e07c597",
   "metadata": {},
   "outputs": [],
   "source": [
    "def simulation_estimation(N ,omega, alpha, beta):\n",
    "    theta_est = np.zeros((3,N))\n",
    "    J_est = np.zeros((3,3))\n",
    "    for i in range(N):\n",
    "        X, sigmas = simulate_GARCH(n=1000, omega=omega, alpha=alpha, beta=beta)\n",
    "        omega_est, alpha_est, beta_est = garch_estimation(X = X)\n",
    "        theta_est[0][i] = omega_est\n",
    "        theta_est[1][i] = alpha_est\n",
    "        theta_est[2][i] = beta_est\n",
    "        J_est += J(X, sigmas, beta_est)\n",
    "    return theta_est, 2*np.linalg.inv(J_est/N)"
   ]
  },
  {
   "cell_type": "code",
   "execution_count": 37,
   "id": "1715470f",
   "metadata": {},
   "outputs": [],
   "source": [
    "theta = [0.1, 0.7, 0.2]\n",
    "theta_est, Sigma_est = simulation_estimation(N= 100,omega = theta[0], alpha = theta[1], beta = theta[2])"
   ]
  },
  {
   "cell_type": "code",
   "execution_count": 38,
   "id": "45082d32",
   "metadata": {},
   "outputs": [
    {
     "name": "stdout",
     "output_type": "stream",
     "text": [
      "Confidence Interval for omega (0.09837955380859471, 0.10403223944938163) True Value of omega is 0.1\n",
      "Confidence Interval for alpha (0.6681660517370727, 0.697730072878409) True Value of alpha is 0.7\n",
      "Confidence Interval for beta (0.1912415678443567, 0.2118108339796121) True Value of beta is 0.2\n"
     ]
    }
   ],
   "source": [
    "names = ['omega', 'alpha', 'beta']\n",
    "for i in range(3):\n",
    "    CI = stats.norm.interval(alpha=0.95, loc= np.mean(theta_est[i]), scale=stats.sem(theta_est[i]))\n",
    "    print('Confidence Interval for', names[i],  CI, 'True Value of', names[i], 'is', theta[i])"
   ]
  },
  {
   "cell_type": "code",
   "execution_count": 39,
   "id": "5ef96ebe",
   "metadata": {},
   "outputs": [
    {
     "name": "stdout",
     "output_type": "stream",
     "text": [
      "0.10120589662898814 0.0014493028625974483 0.3462992440233114\n",
      "0.6829480623077407 0.007579975819080863 61025.58357579133\n",
      "0.20152620091198428 0.005273793411799268 30089.230501664217\n"
     ]
    }
   ],
   "source": [
    "for i in range(3):\n",
    "    mean, var = moments(theta_est[i])\n",
    "    print(mean, var, Sigma_est[i][i])"
   ]
  },
  {
   "cell_type": "markdown",
   "id": "e887ad36",
   "metadata": {},
   "source": [
    "### Boxplots"
   ]
  },
  {
   "cell_type": "code",
   "execution_count": 20,
   "id": "68f9c9ab",
   "metadata": {},
   "outputs": [
    {
     "data": {
      "image/png": "[encoded data removed]",
      "text/plain": [
       "<Figure size 640x480 with 1 Axes>"
      ]
     },
     "metadata": {},
     "output_type": "display_data"
    },
    {
     "data": {
      "image/png": "[encoded data removed]",
      "text/plain": [
       "<Figure size 640x480 with 1 Axes>"
      ]
     },
     "metadata": {},
     "output_type": "display_data"
    },
    {
     "data": {
      "image/png": "[encoded data removed]",
      "text/plain": [
       "<Figure size 640x480 with 1 Axes>"
      ]
     },
     "metadata": {},
     "output_type": "display_data"
    }
   ],
   "source": [
    "fig1, ax1 = plt.subplots()\n",
    "ax1.set_title('omega')\n",
    "ax1.boxplot(theta_est[0])\n",
    "plt.savefig('omega.png')\n",
    "fig2, ax2 = plt.subplots()\n",
    "ax2.set_title('alpha')\n",
    "ax2.boxplot(theta_est[1])\n",
    "plt.savefig('alpha.png')\n",
    "fig3, ax3 = plt.subplots()\n",
    "ax3.set_title('beta')\n",
    "ax3.boxplot(theta_est[2])\n",
    "plt.savefig('beta.png')\n",
    "plt.show()"
   ]
  },
  {
   "cell_type": "markdown",
   "id": "096dd3bd",
   "metadata": {},
   "source": [
    "### Garch with student distribution"
   ]
  },
  {
   "cell_type": "code",
   "execution_count": 198,
   "id": "9d6a22d2",
   "metadata": {},
   "outputs": [],
   "source": [
    "def simulate_student_GARCH(n, omega, alpha, df, beta=0):\n",
    "    \n",
    "    # Initialize our values\n",
    "    w = np.random.standard_t(df=df, size=n)\n",
    "    eps = np.zeros_like(w)\n",
    "    sigsq = np.zeros_like(w)\n",
    "\n",
    "    for i in range(1, n):\n",
    "        sigsq[i] = omega + alpha*(eps[i-1]**2) + beta*sigsq[i-1]\n",
    "        eps[i] = w[i] * np.sqrt(sigsq[i])\n",
    "    \n",
    "    return eps, sigsq"
   ]
  },
  {
   "cell_type": "code",
   "execution_count": 199,
   "id": "168b73df",
   "metadata": {},
   "outputs": [
    {
     "data": {
      "text/plain": [
       "1.2574642764820618"
      ]
     },
     "execution_count": 199,
     "metadata": {},
     "output_type": "execute_result"
    }
   ],
   "source": [
    "np.std(np.random.standard_t(df=5, size=1000))"
   ]
  },
  {
   "cell_type": "code",
   "execution_count": 200,
   "id": "d1c60dad",
   "metadata": {},
   "outputs": [],
   "source": [
    "def student_simulation_eatimation(N ,omega, alpha, beta, df):\n",
    "    theta_est = np.zeros((3,N))\n",
    "    for i in range(N):\n",
    "        X, _ = simulate_student_GARCH(n=1000, omega=omega, alpha=alpha, beta=beta, df=df)\n",
    "        omega_est, alpha_est, beta_est = built_in_estimation(X)\n",
    "        theta_est[0][i] = omega_est\n",
    "        theta_est[1][i] = alpha_est\n",
    "        theta_est[2][i] = beta_est\n",
    "        \n",
    "    return theta_est"
   ]
  },
  {
   "cell_type": "code",
   "execution_count": 215,
   "id": "449d7c08",
   "metadata": {},
   "outputs": [
    {
     "name": "stderr",
     "output_type": "stream",
     "text": [
      "/Users/gosa/opt/anaconda3/lib/python3.9/site-packages/arch/univariate/base.py:753: ConvergenceWarning: The optimizer returned code 8. The message is:\n",
      "Positive directional derivative for linesearch\n",
      "See scipy.optimize.fmin_slsqp for code meaning.\n",
      "\n",
      "  warnings.warn(\n",
      "/Users/gosa/opt/anaconda3/lib/python3.9/site-packages/arch/univariate/base.py:753: ConvergenceWarning: The optimizer returned code 9. The message is:\n",
      "Iteration limit reached\n",
      "See scipy.optimize.fmin_slsqp for code meaning.\n",
      "\n",
      "  warnings.warn(\n",
      "/Users/gosa/opt/anaconda3/lib/python3.9/site-packages/arch/univariate/base.py:753: ConvergenceWarning: The optimizer returned code 8. The message is:\n",
      "Positive directional derivative for linesearch\n",
      "See scipy.optimize.fmin_slsqp for code meaning.\n",
      "\n",
      "  warnings.warn(\n",
      "/Users/gosa/opt/anaconda3/lib/python3.9/site-packages/arch/univariate/base.py:753: ConvergenceWarning: The optimizer returned code 8. The message is:\n",
      "Positive directional derivative for linesearch\n",
      "See scipy.optimize.fmin_slsqp for code meaning.\n",
      "\n",
      "  warnings.warn(\n",
      "/Users/gosa/opt/anaconda3/lib/python3.9/site-packages/arch/univariate/base.py:753: ConvergenceWarning: The optimizer returned code 8. The message is:\n",
      "Positive directional derivative for linesearch\n",
      "See scipy.optimize.fmin_slsqp for code meaning.\n",
      "\n",
      "  warnings.warn(\n",
      "/Users/gosa/opt/anaconda3/lib/python3.9/site-packages/arch/univariate/base.py:753: ConvergenceWarning: The optimizer returned code 8. The message is:\n",
      "Positive directional derivative for linesearch\n",
      "See scipy.optimize.fmin_slsqp for code meaning.\n",
      "\n",
      "  warnings.warn(\n",
      "/Users/gosa/opt/anaconda3/lib/python3.9/site-packages/arch/univariate/base.py:753: ConvergenceWarning: The optimizer returned code 8. The message is:\n",
      "Positive directional derivative for linesearch\n",
      "See scipy.optimize.fmin_slsqp for code meaning.\n",
      "\n",
      "  warnings.warn(\n",
      "/Users/gosa/opt/anaconda3/lib/python3.9/site-packages/arch/univariate/base.py:753: ConvergenceWarning: The optimizer returned code 9. The message is:\n",
      "Iteration limit reached\n",
      "See scipy.optimize.fmin_slsqp for code meaning.\n",
      "\n",
      "  warnings.warn(\n",
      "/Users/gosa/opt/anaconda3/lib/python3.9/site-packages/arch/univariate/base.py:753: ConvergenceWarning: The optimizer returned code 8. The message is:\n",
      "Positive directional derivative for linesearch\n",
      "See scipy.optimize.fmin_slsqp for code meaning.\n",
      "\n",
      "  warnings.warn(\n",
      "/Users/gosa/opt/anaconda3/lib/python3.9/site-packages/arch/univariate/base.py:753: ConvergenceWarning: The optimizer returned code 9. The message is:\n",
      "Iteration limit reached\n",
      "See scipy.optimize.fmin_slsqp for code meaning.\n",
      "\n",
      "  warnings.warn(\n",
      "/Users/gosa/opt/anaconda3/lib/python3.9/site-packages/arch/univariate/base.py:753: ConvergenceWarning: The optimizer returned code 8. The message is:\n",
      "Positive directional derivative for linesearch\n",
      "See scipy.optimize.fmin_slsqp for code meaning.\n",
      "\n",
      "  warnings.warn(\n",
      "/Users/gosa/opt/anaconda3/lib/python3.9/site-packages/arch/univariate/base.py:753: ConvergenceWarning: The optimizer returned code 9. The message is:\n",
      "Iteration limit reached\n",
      "See scipy.optimize.fmin_slsqp for code meaning.\n",
      "\n",
      "  warnings.warn(\n",
      "/Users/gosa/opt/anaconda3/lib/python3.9/site-packages/arch/univariate/base.py:753: ConvergenceWarning: The optimizer returned code 8. The message is:\n",
      "Positive directional derivative for linesearch\n",
      "See scipy.optimize.fmin_slsqp for code meaning.\n",
      "\n",
      "  warnings.warn(\n",
      "/Users/gosa/opt/anaconda3/lib/python3.9/site-packages/arch/univariate/base.py:753: ConvergenceWarning: The optimizer returned code 8. The message is:\n",
      "Positive directional derivative for linesearch\n",
      "See scipy.optimize.fmin_slsqp for code meaning.\n",
      "\n",
      "  warnings.warn(\n",
      "/Users/gosa/opt/anaconda3/lib/python3.9/site-packages/arch/univariate/base.py:753: ConvergenceWarning: The optimizer returned code 8. The message is:\n",
      "Positive directional derivative for linesearch\n",
      "See scipy.optimize.fmin_slsqp for code meaning.\n",
      "\n",
      "  warnings.warn(\n",
      "/Users/gosa/opt/anaconda3/lib/python3.9/site-packages/arch/univariate/base.py:753: ConvergenceWarning: The optimizer returned code 9. The message is:\n",
      "Iteration limit reached\n",
      "See scipy.optimize.fmin_slsqp for code meaning.\n",
      "\n",
      "  warnings.warn(\n",
      "/Users/gosa/opt/anaconda3/lib/python3.9/site-packages/arch/univariate/base.py:753: ConvergenceWarning: The optimizer returned code 8. The message is:\n",
      "Positive directional derivative for linesearch\n",
      "See scipy.optimize.fmin_slsqp for code meaning.\n",
      "\n",
      "  warnings.warn(\n",
      "/Users/gosa/opt/anaconda3/lib/python3.9/site-packages/arch/univariate/base.py:753: ConvergenceWarning: The optimizer returned code 8. The message is:\n",
      "Positive directional derivative for linesearch\n",
      "See scipy.optimize.fmin_slsqp for code meaning.\n",
      "\n",
      "  warnings.warn(\n",
      "/Users/gosa/opt/anaconda3/lib/python3.9/site-packages/arch/univariate/base.py:753: ConvergenceWarning: The optimizer returned code 8. The message is:\n",
      "Positive directional derivative for linesearch\n",
      "See scipy.optimize.fmin_slsqp for code meaning.\n",
      "\n",
      "  warnings.warn(\n",
      "/Users/gosa/opt/anaconda3/lib/python3.9/site-packages/arch/univariate/base.py:753: ConvergenceWarning: The optimizer returned code 8. The message is:\n",
      "Positive directional derivative for linesearch\n",
      "See scipy.optimize.fmin_slsqp for code meaning.\n",
      "\n",
      "  warnings.warn(\n",
      "/Users/gosa/opt/anaconda3/lib/python3.9/site-packages/arch/univariate/base.py:753: ConvergenceWarning: The optimizer returned code 8. The message is:\n",
      "Positive directional derivative for linesearch\n",
      "See scipy.optimize.fmin_slsqp for code meaning.\n",
      "\n",
      "  warnings.warn(\n",
      "/Users/gosa/opt/anaconda3/lib/python3.9/site-packages/arch/univariate/base.py:753: ConvergenceWarning: The optimizer returned code 8. The message is:\n",
      "Positive directional derivative for linesearch\n",
      "See scipy.optimize.fmin_slsqp for code meaning.\n",
      "\n",
      "  warnings.warn(\n",
      "/Users/gosa/opt/anaconda3/lib/python3.9/site-packages/arch/univariate/base.py:753: ConvergenceWarning: The optimizer returned code 8. The message is:\n",
      "Positive directional derivative for linesearch\n",
      "See scipy.optimize.fmin_slsqp for code meaning.\n",
      "\n",
      "  warnings.warn(\n",
      "/Users/gosa/opt/anaconda3/lib/python3.9/site-packages/arch/univariate/base.py:753: ConvergenceWarning: The optimizer returned code 9. The message is:\n",
      "Iteration limit reached\n",
      "See scipy.optimize.fmin_slsqp for code meaning.\n",
      "\n",
      "  warnings.warn(\n",
      "/Users/gosa/opt/anaconda3/lib/python3.9/site-packages/arch/univariate/base.py:753: ConvergenceWarning: The optimizer returned code 8. The message is:\n",
      "Positive directional derivative for linesearch\n",
      "See scipy.optimize.fmin_slsqp for code meaning.\n",
      "\n",
      "  warnings.warn(\n"
     ]
    }
   ],
   "source": [
    "theta = [0.3, 0.65, 0.3]\n",
    "theta_est = student_simulation_eatimation(N= 5000, omega = theta[0], \n",
    "                                          alpha = theta[1], beta = theta[2], df=5)"
   ]
  },
  {
   "cell_type": "code",
   "execution_count": 216,
   "id": "ab2c9eea",
   "metadata": {},
   "outputs": [
    {
     "name": "stdout",
     "output_type": "stream",
     "text": [
      "Confidence Interval for omega (-18328.827113279476, 37639.199434521746) True Value of omega is 0.3\n",
      "True\n",
      "Confidence Interval for alpha (0.6644815704711546, 0.6712359599033382) True Value of alpha is 0.65\n",
      "False\n",
      "Confidence Interval for beta (0.32876285885316103, 0.3355174291547376) True Value of beta is 0.3\n",
      "False\n"
     ]
    }
   ],
   "source": [
    "names = ['omega', 'alpha', 'beta']\n",
    "for i in range(3):\n",
    "    CI = stats.t.interval(alpha=0.99, df=5,\n",
    "                             loc= np.mean(theta_est[i]), scale=stats.sem(theta_est[i]))\n",
    "    print('Confidence Interval for', names[i],  CI, 'True Value of', names[i], 'is', theta[i])\n",
    "    print(CI[0]< theta[i] and theta[i]< CI[1]) "
   ]
  },
  {
   "cell_type": "code",
   "execution_count": 225,
   "id": "6415d85c",
   "metadata": {},
   "outputs": [
    {
     "data": {
      "image/png": "[encoded data removed]",
      "text/plain": [
       "<Figure size 640x480 with 1 Axes>"
      ]
     },
     "metadata": {},
     "output_type": "display_data"
    },
    {
     "data": {
      "image/png": "[encoded data removed]",
      "text/plain": [
       "<Figure size 640x480 with 1 Axes>"
      ]
     },
     "metadata": {},
     "output_type": "display_data"
    },
    {
     "data": {
      "image/png": "[encoded data removed]",
      "text/plain": [
       "<Figure size 640x480 with 1 Axes>"
      ]
     },
     "metadata": {},
     "output_type": "display_data"
    }
   ],
   "source": [
    "fig1, ax1 = plt.subplots()\n",
    "ax1.set_title('student_omega')\n",
    "ax1.boxplot(theta_est[0][100:])\n",
    "plt.savefig('student_omega.png')\n",
    "fig2, ax2 = plt.subplots()\n",
    "ax2.set_title('student_alpha')\n",
    "ax2.boxplot(theta_est[1])\n",
    "plt.savefig('student_alpha.png')\n",
    "fig3, ax3 = plt.subplots()\n",
    "ax3.set_title('student_beta')\n",
    "ax3.boxplot(theta_est[2])\n",
    "plt.savefig('student_beta.png')\n",
    "plt.show()"
   ]
  },
  {
   "cell_type": "code",
   "execution_count": 218,
   "id": "c338f348",
   "metadata": {},
   "outputs": [
    {
     "name": "stdout",
     "output_type": "stream",
     "text": [
      "(9655.18616062113, 6940.927494184643) (0.6678587651872445, 0.0008376519632371276) (0.33214014400394937, 0.0008376743939251478)\n"
     ]
    }
   ],
   "source": [
    "print(moments(theta_est[0]),moments(theta_est[1]),moments(theta_est[2]))"
   ]
  },
  {
   "cell_type": "markdown",
   "id": "78b48410",
   "metadata": {},
   "source": [
    "# Bootstrap"
   ]
  },
  {
   "cell_type": "code",
   "execution_count": 204,
   "id": "93a01647",
   "metadata": {},
   "outputs": [],
   "source": [
    "eps, sigm = simulate_student_GARCH(n=1000, omega=0.01, alpha=0.3, beta=0.3, df=5)"
   ]
  },
  {
   "cell_type": "code",
   "execution_count": 205,
   "id": "9510c5a6",
   "metadata": {},
   "outputs": [],
   "source": [
    "model = arch_model(eps, p=1, q=1, dist='StudentsT')\n",
    "model_fit = model.fit(update_freq=5, disp='off')\n",
    "forecasts = model_fit.forecast(horizon=5, start=995, simulations = 1000, method='bootstrap')"
   ]
  },
  {
   "cell_type": "code",
   "execution_count": 206,
   "id": "a994f885",
   "metadata": {},
   "outputs": [
    {
     "name": "stdout",
     "output_type": "stream",
     "text": [
      "          h.1       h.2       h.3       h.4       h.5\n",
      "995  0.038112  0.046080  0.050767  0.056515  0.060284\n",
      "996  0.029006  0.040757  0.048788  0.055164  0.063516\n",
      "997  0.025779  0.038475  0.051128  0.056503  0.057377\n",
      "998  0.026541  0.038981  0.048959  0.058652  0.058025\n",
      "999  0.054771  0.060289  0.068862  0.066532  0.075007\n"
     ]
    }
   ],
   "source": [
    "forecast = forecasts.variance.tail()\n",
    "print(forecast)"
   ]
  },
  {
   "cell_type": "code",
   "execution_count": 207,
   "id": "3a122e73",
   "metadata": {},
   "outputs": [],
   "source": [
    "eps = pd.DataFrame(eps[995:1000], index=range(995,1000) )\n",
    "forecast = forecast['h.1']"
   ]
  },
  {
   "cell_type": "code",
   "execution_count": 208,
   "id": "609039b3",
   "metadata": {},
   "outputs": [
    {
     "data": {
      "image/png": "[encoded data removed]",
      "text/plain": [
       "<Figure size 1000x600 with 1 Axes>"
      ]
     },
     "metadata": {},
     "output_type": "display_data"
    }
   ],
   "source": [
    "plt.figure(figsize=(10, 6))\n",
    "plt.plot(eps**2, label='Realized Volatility') \n",
    "plt.plot(forecast, label='Volatility Prediction-GARCH')\n",
    "plt.title('Volatility Prediction with GARCH', fontsize=12) \n",
    "plt.legend()\n",
    "plt.show()"
   ]
  },
  {
   "cell_type": "code",
   "execution_count": 219,
   "id": "3d1ebb1f",
   "metadata": {},
   "outputs": [
    {
     "data": {
      "text/html": [
       "<div>\n",
       "<style scoped>\n",
       "    .dataframe tbody tr th:only-of-type {\n",
       "        vertical-align: middle;\n",
       "    }\n",
       "\n",
       "    .dataframe tbody tr th {\n",
       "        vertical-align: top;\n",
       "    }\n",
       "\n",
       "    .dataframe thead th {\n",
       "        text-align: right;\n",
       "    }\n",
       "</style>\n",
       "<table border=\"1\" class=\"dataframe\">\n",
       "  <thead>\n",
       "    <tr style=\"text-align: right;\">\n",
       "      <th></th>\n",
       "      <th>0</th>\n",
       "    </tr>\n",
       "  </thead>\n",
       "  <tbody>\n",
       "    <tr>\n",
       "      <th>995</th>\n",
       "      <td>-0.108475</td>\n",
       "    </tr>\n",
       "    <tr>\n",
       "      <th>996</th>\n",
       "      <td>0.061640</td>\n",
       "    </tr>\n",
       "    <tr>\n",
       "      <th>997</th>\n",
       "      <td>0.026991</td>\n",
       "    </tr>\n",
       "    <tr>\n",
       "      <th>998</th>\n",
       "      <td>-0.045445</td>\n",
       "    </tr>\n",
       "    <tr>\n",
       "      <th>999</th>\n",
       "      <td>-0.228247</td>\n",
       "    </tr>\n",
       "  </tbody>\n",
       "</table>\n",
       "</div>"
      ],
      "text/plain": [
       "            0\n",
       "995 -0.108475\n",
       "996  0.061640\n",
       "997  0.026991\n",
       "998 -0.045445\n",
       "999 -0.228247"
      ]
     },
     "execution_count": 219,
     "metadata": {},
     "output_type": "execute_result"
    }
   ],
   "source": [
    "eps"
   ]
  },
  {
   "cell_type": "markdown",
   "id": "63e550fb",
   "metadata": {},
   "source": [
    "# get a sample of $\\eta$"
   ]
  },
  {
   "cell_type": "code",
   "execution_count": 220,
   "id": "4a92eef1",
   "metadata": {},
   "outputs": [],
   "source": [
    "eps, sigm = simulate_GARCH(n=1000, omega=0.01, alpha=0.3, beta=0.3)"
   ]
  },
  {
   "cell_type": "code",
   "execution_count": 232,
   "id": "3de5a3d3",
   "metadata": {},
   "outputs": [
    {
     "name": "stdout",
     "output_type": "stream",
     "text": [
      "1000\n"
     ]
    }
   ],
   "source": [
    "etas = []\n",
    "for i in range(1000):\n",
    "    etas.append(eps[i]/sigm[i])\n",
    "print(len(etas))"
   ]
  },
  {
   "cell_type": "code",
   "execution_count": 237,
   "id": "396da592",
   "metadata": {},
   "outputs": [
    {
     "data": {
      "image/png": "[encoded data removed]",
      "text/plain": [
       "<Figure size 640x480 with 1 Axes>"
      ]
     },
     "metadata": {},
     "output_type": "display_data"
    }
   ],
   "source": [
    "plt.hist(etas, bins=40)\n",
    "plt.title('Etas Histogram', fontsize=12) \n",
    "plt.show()"
   ]
  },
  {
   "cell_type": "code",
   "execution_count": null,
   "id": "56109678",
   "metadata": {},
   "outputs": [],
   "source": []
  },
  {
   "cell_type": "code",
   "execution_count": null,
   "id": "c3af187f",
   "metadata": {},
   "outputs": [],
   "source": []
  }
 ],
 "metadata": {
  "kernelspec": {
   "display_name": "Python 3 (ipykernel)",
   "language": "python",
   "name": "python3"
  },
  "language_info": {
   "codemirror_mode": {
    "name": "ipython",
    "version": 3
   },
   "file_extension": ".py",
   "mimetype": "text/x-python",
   "name": "python",
   "nbconvert_exporter": "python",
   "pygments_lexer": "ipython3",
   "version": "3.9.13"
  }
 },
 "nbformat": 4,
 "nbformat_minor": 5
}
