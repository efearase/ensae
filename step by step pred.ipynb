{
 "cells": [
  {
   "cell_type": "code",
   "execution_count": 1,
   "id": "214ecd9d",
   "metadata": {},
   "outputs": [],
   "source": [
    "import numpy as np\n",
    "from scipy.stats import norm\n",
    "import scipy.optimize as opt\n",
    "import yfinance as yf\n",
    "import pandas as pd\n",
    "import datetime\n",
    "import time\n",
    "import math\n",
    "from scipy import stats\n",
    "import random\n",
    "import sklearn\n",
    "from sklearn.svm import SVR\n",
    "from sklearn.model_selection import train_test_split\n",
    "from arch import arch_model\n",
    "import matplotlib.pyplot as plt\n",
    "from numba import jit\n",
    "from sklearn.metrics import mean_squared_error \n",
    "import warnings \n",
    "warnings.filterwarnings('ignore')"
   ]
  },
  {
   "cell_type": "markdown",
   "id": "967dac8d",
   "metadata": {},
   "source": [
    "# In this section i implement basic functions for simulations of retutns and estiomation of sigmas and etas"
   ]
  },
  {
   "cell_type": "code",
   "execution_count": 2,
   "id": "4a02b254",
   "metadata": {},
   "outputs": [],
   "source": [
    "# function for simulations of garch(1,1) process \n",
    "def simulate_GARCH(n, omega, alpha, beta=0):\n",
    "    \n",
    "    # Initialize our values\n",
    "    sigma1 = math.sqrt(omega / (1 - alpha - beta))\n",
    "    X = np.ndarray(n)\n",
    "    sigma = np.ndarray(n)\n",
    "    sigma[0] = sigma1\n",
    "    for t in range(1, n):\n",
    "        # Draw the next x_t\n",
    "        X[t - 1] = sigma[t - 1] * np.random.normal(0, 1)\n",
    "        # Draw the next sigma_t\n",
    "        sigma[t] = math.sqrt(omega + beta * sigma[t - 1]**2 + alpha * X[t - 1]**2)\n",
    "        \n",
    "    X[n - 1] = sigma[n - 1] * np.random.normal(0, 1)    \n",
    "    \n",
    "    return X, sigma"
   ]
  },
  {
   "cell_type": "code",
   "execution_count": 3,
   "id": "595435ce",
   "metadata": {},
   "outputs": [],
   "source": [
    "# simulations of garch(2,2)\n",
    "def simulate_GARCH_mod(n, omega, alpha1, alpha2, beta1=0, beta2=0):\n",
    "    \n",
    "    # Initialize our values\n",
    "    sigma1 = 0.1\n",
    "    X = np.ndarray(n)\n",
    "    sigma = np.ndarray(n)\n",
    "    sigma[0], sigma[1] = sigma1, sigma1\n",
    "    X[0], X[1] = sigma1, sigma1\n",
    "    for t in range(3, n):\n",
    "        # Draw the next x_t\n",
    "        X[t - 1] = sigma[t - 1] * np.random.normal(0, 1)\n",
    "        # Draw the next sigma_t\n",
    "        sigma[t] = math.sqrt(omega+beta1*sigma[t-1]**2+beta2*sigma[t-2]**2+alpha1*X[t-1]**2+alpha2*X[t-2]**2)\n",
    "        \n",
    "    X[n - 1] = sigma[n - 1] * np.random.normal(0, 1)    \n",
    "    \n",
    "    return X, sigma"
   ]
  },
  {
   "cell_type": "code",
   "execution_count": 4,
   "id": "e3bb92c7",
   "metadata": {},
   "outputs": [],
   "source": [
    "def get_sigmas22(returns, theta):\n",
    "    w, a1, a2, b1, b2 = theta[0], theta[1], theta[2], theta[3], theta[4]\n",
    "    sigma1 = 0.1\n",
    "    sigma2 = 0.1\n",
    "    sigmas = [sigma1, sigma2]\n",
    "    for i in range(len(returns)-2):\n",
    "        sigmas.append(np.sqrt(w+a1*returns[i+1]**2+a2*returns[i]**2+b1*sigmas[-1]**2 +b2*sigmas[-2]**2))\n",
    "    return sigmas   "
   ]
  },
  {
   "cell_type": "code",
   "execution_count": 5,
   "id": "1ecae385",
   "metadata": {},
   "outputs": [],
   "source": [
    "def get_res(ret, sigma):\n",
    "    return np.divide(ret, sigma)"
   ]
  },
  {
   "cell_type": "markdown",
   "id": "73f7f64e",
   "metadata": {},
   "source": [
    "# In this part we compare performance of GARCH and SVR in forecasting of square of returns "
   ]
  },
  {
   "cell_type": "markdown",
   "id": "1a66892e",
   "metadata": {},
   "source": [
    "## Right GARCH"
   ]
  },
  {
   "cell_type": "markdown",
   "id": "cff49cbf",
   "metadata": {},
   "source": [
    "### In this section I simulated a garch(2,2) process, then I fit a built in function to estimate coefficients of this process"
   ]
  },
  {
   "cell_type": "code",
   "execution_count": 6,
   "id": "296d4d4f",
   "metadata": {},
   "outputs": [],
   "source": [
    "#ret, sigma = simulate_GARCH(n=5000, omega=0.01, alpha=0.05, beta=0.9)\n",
    "ret, tr_sigma = simulate_GARCH_mod(n=5000, omega=0.02, alpha1=0.25, alpha2 = 0.25, beta1=0.2, beta2=0.2)"
   ]
  },
  {
   "cell_type": "code",
   "execution_count": 7,
   "id": "6df44ad3",
   "metadata": {},
   "outputs": [
    {
     "data": {
      "text/plain": [
       "array([ 0.1       ,  0.1       ,  0.        , ..., -0.15164771,\n",
       "       -0.43792731,  0.03303242])"
      ]
     },
     "execution_count": 7,
     "metadata": {},
     "output_type": "execute_result"
    }
   ],
   "source": [
    "ret"
   ]
  },
  {
   "cell_type": "code",
   "execution_count": 8,
   "id": "06a3ad7e",
   "metadata": {},
   "outputs": [
    {
     "name": "stdout",
     "output_type": "stream",
     "text": [
      "[0.2238510022372228, 0.2338957231841471, 0.18971279204225727, 0.19408198086877773, 0.19684768833373825, 0.204574462030359, 0.20161425435590474, 0.18843940884390067, 0.20314737805184882, 0.2919676147290785]\n",
      "[0.24072756 0.24242715 0.21066417 0.21367021 0.21357892 0.22117998\n",
      " 0.21555067 0.20803046 0.21869465 0.30317511]\n"
     ]
    }
   ],
   "source": [
    "theta = np.ndarray(5)\n",
    "garch = arch_model(ret, p=2, q=2).fit(disp='off')\n",
    "theta[0], theta[1], theta[2], theta[3], theta[4] = (garch.params['omega'],\n",
    "                                                            garch.params['alpha[1]'],garch.params['beta[1]'],\n",
    "                                                            garch.params['alpha[2]'], garch.params['beta[2]'])\n",
    "# I want to compare estimated and real sigmas   \n",
    "sigma = get_sigmas22(ret, theta)\n",
    "print(sigma[-10:])\n",
    "print(tr_sigma[-10:])"
   ]
  },
  {
   "cell_type": "code",
   "execution_count": 9,
   "id": "31d0521a",
   "metadata": {},
   "outputs": [
    {
     "name": "stdout",
     "output_type": "stream",
     "text": [
      "4985 4985\n"
     ]
    }
   ],
   "source": [
    "#ret, sigma = np.append(ret, ret_mod), np.append(sigma, sigma_mod)\n",
    "ret = ret[15:]\n",
    "sigma = sigma[15:]\n",
    "print(len(ret),len(sigma))"
   ]
  },
  {
   "cell_type": "code",
   "execution_count": 10,
   "id": "2a4edbd2",
   "metadata": {},
   "outputs": [],
   "source": [
    "ret_train, ret_test, sigma_train, sigma_test = train_test_split(ret, sigma, test_size=0.2, random_state=0)"
   ]
  },
  {
   "cell_type": "code",
   "execution_count": 11,
   "id": "19ceb884",
   "metadata": {},
   "outputs": [],
   "source": [
    "n = len(ret_train)\n",
    "k = len(ret_test)"
   ]
  },
  {
   "cell_type": "code",
   "execution_count": 12,
   "id": "4b4df9df",
   "metadata": {},
   "outputs": [
    {
     "name": "stdout",
     "output_type": "stream",
     "text": [
      "0.011571532015348685\n",
      "1.0458130413457842\n"
     ]
    }
   ],
   "source": [
    "# get a list of resids \n",
    "eps_train = get_res(ret_train, sigma_train)\n",
    "print(np.mean(eps_train))\n",
    "print(np.std(eps_train))"
   ]
  },
  {
   "cell_type": "code",
   "execution_count": 13,
   "id": "0bf8eb15",
   "metadata": {
    "scrolled": true
   },
   "outputs": [
    {
     "data": {
      "text/plain": [
       "(array([  1.,   0.,   2.,   0.,   0.,   1.,   0.,   0.,   4.,   1.,   6.,\n",
       "          4.,   4.,   3.,   4.,   3.,  10.,  10.,  14.,  17.,  22.,  13.,\n",
       "         20.,  23.,  17.,  29.,  29.,  51.,  46.,  60.,  57.,  82.,  82.,\n",
       "         74.,  91., 101., 109., 103., 100., 131., 110., 118., 140., 136.,\n",
       "        121., 122., 130., 129., 117., 120., 120., 104., 109.,  95., 113.,\n",
       "        101.,  94.,  74.,  77.,  50.,  62.,  49.,  44.,  35.,  38.,  44.,\n",
       "         25.,  22.,  28.,  28.,  15.,  17.,  14.,  10.,   8.,   9.,   7.,\n",
       "          7.,   4.,   5.,   3.,   1.,   0.,   2.,   1.,   0.,   2.,   2.,\n",
       "          0.,   0.,   1.,   0.,   0.,   0.,   0.,   0.,   0.,   0.,   0.,\n",
       "          1.]),\n",
       " array([-3.80726902, -3.72347341, -3.63967781, -3.5558822 , -3.47208659,\n",
       "        -3.38829098, -3.30449537, -3.22069977, -3.13690416, -3.05310855,\n",
       "        -2.96931294, -2.88551733, -2.80172173, -2.71792612, -2.63413051,\n",
       "        -2.5503349 , -2.46653929, -2.38274368, -2.29894808, -2.21515247,\n",
       "        -2.13135686, -2.04756125, -1.96376564, -1.87997004, -1.79617443,\n",
       "        -1.71237882, -1.62858321, -1.5447876 , -1.460992  , -1.37719639,\n",
       "        -1.29340078, -1.20960517, -1.12580956, -1.04201396, -0.95821835,\n",
       "        -0.87442274, -0.79062713, -0.70683152, -0.62303592, -0.53924031,\n",
       "        -0.4554447 , -0.37164909, -0.28785348, -0.20405788, -0.12026227,\n",
       "        -0.03646666,  0.04732895,  0.13112456,  0.21492016,  0.29871577,\n",
       "         0.38251138,  0.46630699,  0.5501026 ,  0.6338982 ,  0.71769381,\n",
       "         0.80148942,  0.88528503,  0.96908064,  1.05287624,  1.13667185,\n",
       "         1.22046746,  1.30426307,  1.38805868,  1.47185428,  1.55564989,\n",
       "         1.6394455 ,  1.72324111,  1.80703672,  1.89083232,  1.97462793,\n",
       "         2.05842354,  2.14221915,  2.22601476,  2.30981037,  2.39360597,\n",
       "         2.47740158,  2.56119719,  2.6449928 ,  2.72878841,  2.81258401,\n",
       "         2.89637962,  2.98017523,  3.06397084,  3.14776645,  3.23156205,\n",
       "         3.31535766,  3.39915327,  3.48294888,  3.56674449,  3.65054009,\n",
       "         3.7343357 ,  3.81813131,  3.90192692,  3.98572253,  4.06951813,\n",
       "         4.15331374,  4.23710935,  4.32090496,  4.40470057,  4.48849617,\n",
       "         4.57229178]),\n",
       " <BarContainer object of 100 artists>)"
      ]
     },
     "execution_count": 13,
     "metadata": {},
     "output_type": "execute_result"
    },
    {
     "data": {
      "image/png": "[encoded data removed]",
      "text/plain": [
       "<Figure size 640x480 with 1 Axes>"
      ]
     },
     "metadata": {},
     "output_type": "display_data"
    }
   ],
   "source": [
    "# check if the distribution is gausian\n",
    "plt.hist(eps_train, bins=100)"
   ]
  },
  {
   "cell_type": "code",
   "execution_count": 14,
   "id": "b9fbe92f",
   "metadata": {},
   "outputs": [
    {
     "name": "stdout",
     "output_type": "stream",
     "text": [
      "The null hypothesis can be rejected\n"
     ]
    }
   ],
   "source": [
    "#This function tests the null hypothesis that a sample comes from a normal distribution. \n",
    "# It is based on D’Agostino and Pearson’s \n",
    "#(https://docs.scipy.org/doc/scipy/reference/generated/scipy.stats.normaltest.html)\n",
    "\n",
    "k2, p = stats.normaltest(eps_train)\n",
    "alpha = 0.025\n",
    "\n",
    "if p < alpha:  # null hypothesis: eps_train comes from a normal distribution\n",
    "    print(\"The null hypothesis can be rejected\")\n",
    "else:\n",
    "    print(\"eps_train comes from a normal distribution\")"
   ]
  },
  {
   "cell_type": "markdown",
   "id": "37cc5aaf",
   "metadata": {},
   "source": [
    "In the next section first we fit a built-in garch model to our ret_train dataset, then using the estimated coefficients and list of sigmas, obtained from 'get_sigmas22(returns, theta)' function, we compute new sigma according to GARCH(2,2) formula\n",
    "$\\sigma_t^2 = \\omega + \\alpha_1*\\varepsilon^2_{t-1}+\\alpha_2*\\varepsilon^2_{t-2} + \\beta_1*\\sigma_{t-1}^2 + \\beta_2*\\sigma_{t-2}^2 $\n",
    "\n",
    "Then we obtain a random residiual $\\hat{\\eta}$ using $ random.randint() $ and , by multiplying  $\\sigma_t^2$ by square of this residiual $\\hat{\\eta_t}^2$ we obtain $\\hat{\\varepsilon}_t^2$.\n",
    "\n",
    "Then we add the $\\hat{\\varepsilon}_t^2$ to a list named 'pred', $\\varepsilon_t^2$ to a list named 'real' and to our training set. Then we repeat our program. \n",
    "\n",
    "In the end we calculate MSE using built-in numpy functions."
   ]
  },
  {
   "cell_type": "code",
   "execution_count": 15,
   "id": "b93e76f4",
   "metadata": {},
   "outputs": [
    {
     "name": "stdout",
     "output_type": "stream",
     "text": [
      "MSE for GARCH:  0.33531946129445456\n"
     ]
    }
   ],
   "source": [
    "pred = []\n",
    "real = []\n",
    "for i in range(k):\n",
    "    # fit a built-in function to estimate coefficients \n",
    "    garch = arch_model(ret_train, p=2, q=2).fit(disp='off')\n",
    "    #read coefficients \n",
    "    omega,a1,b1,a2,b2 = (garch.params['omega'], garch.params['alpha[1]'],\n",
    "                          garch.params['beta[1]'], garch.params['alpha[2]'], garch.params['beta[2]'])\n",
    "    #calculate sigma square\n",
    "    pred_sigma2 = omega+a1*ret_train[-1]**2+b1*sigma_train[-1]**2+a2*ret_train[-2]**2+b2*sigma_train[-2]**2\n",
    "    #pick random resid from eps\n",
    "    eps = eps_train[random.randint(0, k)]\n",
    "    pred.append((eps**2) *pred_sigma2)\n",
    "    real.append(ret_test[0]**2)\n",
    "    ret_train = np.append(ret_train, ret_test[0])\n",
    "    ret_test = np.delete(ret_test, [0])\n",
    "    sigma_train = np.append(sigma_train, sigma_test[0])\n",
    "    sigma_test = np.delete(sigma_test, [0])\n",
    "\n",
    "mse_garch = np.square(np.subtract(np.array(pred), np.array(real))).mean()\n",
    "print('MSE for GARCH: ', mse_garch)    "
   ]
  },
  {
   "cell_type": "markdown",
   "id": "a0cf90c4",
   "metadata": {},
   "source": [
    "# SVR"
   ]
  },
  {
   "cell_type": "code",
   "execution_count": 16,
   "id": "f09ceaa0",
   "metadata": {},
   "outputs": [],
   "source": [
    "from sklearn.svm import SVR\n",
    "from scipy.stats import uniform as sp_rand\n",
    "from sklearn.model_selection import RandomizedSearchCV\n",
    "from sklearn.metrics import mean_squared_error\n",
    "from sklearn.model_selection import GridSearchCV"
   ]
  },
  {
   "cell_type": "code",
   "execution_count": 17,
   "id": "35531a26",
   "metadata": {},
   "outputs": [],
   "source": [
    "from sklearn.pipeline import make_pipeline\n",
    "from sklearn.preprocessing import MinMaxScaler"
   ]
  },
  {
   "cell_type": "code",
   "execution_count": 18,
   "id": "f2b599fb",
   "metadata": {},
   "outputs": [],
   "source": [
    "# predict square of returns\n",
    "ret_train, ret_test= train_test_split(np.power(ret,2), test_size=0.2, random_state=0)"
   ]
  },
  {
   "cell_type": "code",
   "execution_count": 19,
   "id": "0c2b4d8d",
   "metadata": {},
   "outputs": [
    {
     "data": {
      "text/plain": [
       "(997, 1)"
      ]
     },
     "execution_count": 19,
     "metadata": {},
     "output_type": "execute_result"
    }
   ],
   "source": [
    "# reshape to an appropriate forma\n",
    "ret_train = ret_train.reshape(-1, 1)\n",
    "ret_test = ret_test.reshape(-1,1)\n",
    "ret_test.shape"
   ]
  },
  {
   "cell_type": "code",
   "execution_count": 20,
   "id": "15ed7dab",
   "metadata": {},
   "outputs": [],
   "source": [
    "# scaling to ensure the data is projected in the interval 0,1.\n",
    "scaler = MinMaxScaler()\n",
    "sigma_train = scaler.fit_transform(ret_train)"
   ]
  },
  {
   "cell_type": "code",
   "execution_count": 21,
   "id": "c5830c97",
   "metadata": {},
   "outputs": [
    {
     "name": "stdout",
     "output_type": "stream",
     "text": [
      "(3984, 4) (3984, 1)\n",
      "(993, 4) (993, 1)\n"
     ]
    }
   ],
   "source": [
    "train_data = ret_train\n",
    "test_data = ret_test\n",
    "\n",
    "# in this section i used this guide https://github.com/microsoft/ML-For-Beginners/blob/main/7-TimeSeries/3-SVR/README.md\n",
    "\n",
    "# forecasting horizont\n",
    "timesteps=5\n",
    "\n",
    "train_data_timesteps=np.array([[j for j in train_data[i:i+timesteps]] for i in range(0,len(train_data)-timesteps+1)])[:,:,0]\n",
    "\n",
    "test_data_timesteps=np.array([[j for j in test_data[i:i+timesteps]] for i in range(0,len(test_data)-timesteps+1)])[:,:,0]\n",
    "\n",
    "x_train, y_train = train_data_timesteps[:,:timesteps-1],train_data_timesteps[:,[timesteps-1]]\n",
    "x_test, y_test = test_data_timesteps[:,:timesteps-1],test_data_timesteps[:,[timesteps-1]]\n",
    "\n",
    "print(x_train.shape, y_train.shape)\n",
    "print(x_test.shape, y_test.shape)"
   ]
  },
  {
   "cell_type": "code",
   "execution_count": 22,
   "id": "65f9f3f7",
   "metadata": {},
   "outputs": [],
   "source": [
    "# hyperparameters tuning\n",
    "param_grid = {'C': [0.1,1, 10], 'gamma': [1,'auto','scale',10000],'kernel': ['rbf','poly', 'sigmoid']}\n",
    "#grid = GridSearchCV(SVR(),param_grid,refit=True,verbose=2)\n",
    "grid = SVR(C=1, gamma=1, kernel='poly')"
   ]
  },
  {
   "cell_type": "code",
   "execution_count": 23,
   "id": "1d621b31",
   "metadata": {
    "scrolled": true
   },
   "outputs": [
    {
     "data": {
      "text/plain": [
       "SVR(C=1, gamma=1, kernel='poly')"
      ]
     },
     "execution_count": 23,
     "metadata": {},
     "output_type": "execute_result"
    }
   ],
   "source": [
    "grid.fit(x_train, y_train[:,0])"
   ]
  },
  {
   "cell_type": "code",
   "execution_count": 24,
   "id": "475639bc",
   "metadata": {},
   "outputs": [],
   "source": [
    "#print(grid.best_estimator_)"
   ]
  },
  {
   "cell_type": "code",
   "execution_count": 25,
   "id": "f39794a0",
   "metadata": {},
   "outputs": [
    {
     "name": "stdout",
     "output_type": "stream",
     "text": [
      "(3984, 1) (993, 1)\n"
     ]
    }
   ],
   "source": [
    "y_train_pred = grid.predict(x_train).reshape(-1,1)\n",
    "y_test_pred = grid.predict(x_test).reshape(-1,1)\n",
    "\n",
    "print(y_train_pred.shape, y_test_pred.shape)"
   ]
  },
  {
   "cell_type": "code",
   "execution_count": 26,
   "id": "37f31d52",
   "metadata": {},
   "outputs": [
    {
     "name": "stdout",
     "output_type": "stream",
     "text": [
      "MSE for SVR  0.1501884571289235\n"
     ]
    }
   ],
   "source": [
    "mse_svr = np.square(np.subtract(y_test_pred, y_test)).mean()\n",
    "print('MSE for SVR ', mse_svr)"
   ]
  },
  {
   "cell_type": "markdown",
   "id": "56b5cd8f",
   "metadata": {},
   "source": [
    "# Misspecified GARCH"
   ]
  },
  {
   "cell_type": "code",
   "execution_count": 27,
   "id": "88b40c79",
   "metadata": {},
   "outputs": [],
   "source": [
    "ret_train, ret_test, sigma_train, sigma_test = train_test_split(ret, sigma, test_size=0.2, random_state=0)"
   ]
  },
  {
   "cell_type": "code",
   "execution_count": 28,
   "id": "8c698be1",
   "metadata": {},
   "outputs": [
    {
     "name": "stdout",
     "output_type": "stream",
     "text": [
      "MSE for misspecified GARCH:  0.2669135875108104\n"
     ]
    }
   ],
   "source": [
    "pred = []\n",
    "real = []\n",
    "\n",
    "for i in range(k):\n",
    "\n",
    "    garch = arch_model(ret_train,vol='GARCH', p=1, q=1).fit(disp='off')\n",
    "    omega,alpha, beta = garch.params['omega'], garch.params['alpha[1]'], garch.params['beta[1]']\n",
    "    vol_pred = omega + alpha* ret_train[-1]**2 + beta* sigma_train[-1]**2\n",
    "    eps = eps_train[random.randint(0, k)]\n",
    "    pred.append(eps**2*vol_pred)\n",
    "    real.append(ret_test[0]**2)\n",
    "    ret_train = np.append(ret_train, ret_test[0])\n",
    "    ret_test = np.delete(ret_test, [0])\n",
    "    sigma_train = np.append(sigma_train, sigma_test[0])\n",
    "    sigma_test = np.delete(sigma_test,[0])\n",
    "    \n",
    "mse_garch = np.square(np.subtract(np.array(pred), np.array(real))).mean()\n",
    "print('MSE for misspecified GARCH: ', mse_garch)    "
   ]
  },
  {
   "cell_type": "markdown",
   "id": "7d367f27",
   "metadata": {},
   "source": [
    "# Summary:\n",
    "## MSE for GARCH:  0.16332370943846017\n",
    "## MSE for SVR  0.25127873840770076\n",
    "## MSE for misspecified GARCH:  0.17337065681028271"
   ]
  },
  {
   "cell_type": "markdown",
   "id": "e5a2bf15",
   "metadata": {},
   "source": [
    "# Different approach "
   ]
  },
  {
   "cell_type": "markdown",
   "id": "4bb3100e",
   "metadata": {},
   "source": [
    "### In this section we used $\\hat{\\sigma}^2$ instead of $\\hat{\\varepsilon}^2$ to evaluate the model. All steps are the same exept for multiplyung $\\hat{\\sigma}^2$ by $\\hat{\\eta}^2$. So we evaluate performance of model using only $\\sigma$. "
   ]
  },
  {
   "cell_type": "markdown",
   "id": "4ab31a48",
   "metadata": {},
   "source": [
    "## Correct Garch. Fit Garch(2,2) on simulated Garch(2,2)"
   ]
  },
  {
   "cell_type": "code",
   "execution_count": 29,
   "id": "3510e9fe",
   "metadata": {},
   "outputs": [],
   "source": [
    "ret_train, ret_test, sigma_train, sigma_test = train_test_split(ret, sigma, test_size=0.2, random_state=0)"
   ]
  },
  {
   "cell_type": "code",
   "execution_count": 30,
   "id": "fc954560",
   "metadata": {},
   "outputs": [
    {
     "name": "stdout",
     "output_type": "stream",
     "text": [
      "MSE for GARCH:  0.08530023566433391\n"
     ]
    }
   ],
   "source": [
    "pred = []\n",
    "real = []\n",
    "\n",
    "for i in range(k):\n",
    "\n",
    "    garch = arch_model(ret_train,vol='GARCH', p=2, q=2).fit(disp='off')\n",
    "    omega,a1,b1,a2,b2 = (garch.params['omega'], garch.params['alpha[1]'], garch.params['beta[1]'],\n",
    "                         garch.params['alpha[2]'], garch.params['beta[2]'])\n",
    "    #calculate sigma square\n",
    "    pred_sigma2 = omega+a1*ret_train[-1]**2+b1*sigma_train[-1]**2+a2*ret_train[-2]**2+b2*sigma_train[-2]**2\n",
    "    pred.append(pred_sigma2)\n",
    "    real.append(sigma_test[0]**2)\n",
    "    ret_train = np.append(ret_train, ret_test[0])\n",
    "    ret_test = np.delete(ret_test, [0])\n",
    "    sigma_train = np.append(sigma_train, sigma_test[0])\n",
    "    sigma_test = np.delete(sigma_test,[0])\n",
    "    \n",
    "mse_garch = np.square(np.subtract(np.array(pred), np.array(real))).mean()\n",
    "print('MSE for GARCH: ', mse_garch)    "
   ]
  },
  {
   "cell_type": "markdown",
   "id": "0b374246",
   "metadata": {},
   "source": [
    "## Misspecified Garch. Fit Garch(1,1) on simulated Garch(2,2)"
   ]
  },
  {
   "cell_type": "code",
   "execution_count": 31,
   "id": "5c9b94df",
   "metadata": {},
   "outputs": [],
   "source": [
    "ret_train, ret_test, sigma_train, sigma_test = train_test_split(ret, sigma, test_size=0.2, random_state=0)"
   ]
  },
  {
   "cell_type": "code",
   "execution_count": 32,
   "id": "62a46ec7",
   "metadata": {},
   "outputs": [
    {
     "name": "stdout",
     "output_type": "stream",
     "text": [
      "MSE for misspecified GARCH:  0.08445365049376717\n"
     ]
    }
   ],
   "source": [
    "pred = []\n",
    "real = []\n",
    "\n",
    "for i in range(k):\n",
    "\n",
    "    garch = arch_model(ret_train,vol='GARCH', p=1, q=1).fit(disp='off')\n",
    "    omega,alpha, beta = garch.params['omega'], garch.params['alpha[1]'], garch.params['beta[1]']\n",
    "    #calculate sigma square\n",
    "    pred_sigma2 = omega + alpha* ret_train[-1]**2 + beta* sigma_train[-1]**2\n",
    "    pred.append(pred_sigma2)\n",
    "    real.append(sigma_test[0]**2)\n",
    "    ret_train = np.append(ret_train, ret_test[0])\n",
    "    ret_test = np.delete(ret_test, [0])\n",
    "    sigma_train = np.append(sigma_train, sigma_test[0])\n",
    "    sigma_test = np.delete(sigma_test,[0])\n",
    "    \n",
    "mse_garch = np.square(np.subtract(np.array(pred), np.array(real))).mean()\n",
    "print('MSE for misspecified GARCH: ', mse_garch)    "
   ]
  },
  {
   "cell_type": "markdown",
   "id": "b334f671",
   "metadata": {},
   "source": [
    "# SVR"
   ]
  },
  {
   "cell_type": "code",
   "execution_count": 33,
   "id": "16688faa",
   "metadata": {},
   "outputs": [
    {
     "data": {
      "text/plain": [
       "(997, 1)"
      ]
     },
     "execution_count": 33,
     "metadata": {},
     "output_type": "execute_result"
    }
   ],
   "source": [
    "# predict square of returns\n",
    "sigma_train, sigma_test= train_test_split(np.power(sigma,2), test_size=0.2, random_state=0)\n",
    "# reshape to an appropriate forma\n",
    "sigma_train = sigma_train.reshape(-1, 1)\n",
    "sigma_test = sigma_test.reshape(-1,1)\n",
    "sigma_test.shape"
   ]
  },
  {
   "cell_type": "code",
   "execution_count": 34,
   "id": "94cf161a",
   "metadata": {},
   "outputs": [],
   "source": [
    "# scaling to ensure the data is projected in the interval 0,1.\n",
    "scaler = MinMaxScaler()\n",
    "sigma_train = scaler.fit_transform(sigma_train)"
   ]
  },
  {
   "cell_type": "code",
   "execution_count": 35,
   "id": "c2302672",
   "metadata": {},
   "outputs": [
    {
     "name": "stdout",
     "output_type": "stream",
     "text": [
      "(3984, 4) (3984, 1)\n",
      "(993, 4) (993, 1)\n"
     ]
    }
   ],
   "source": [
    "train_data = sigma_train\n",
    "test_data = sigma_test\n",
    "\n",
    "# in this section i used this guide https://github.com/microsoft/ML-For-Beginners/blob/main/7-TimeSeries/3-SVR/README.md\n",
    "\n",
    "# the inputs to the model are the data for the first 4 timesteps, \n",
    "#and the output will be the data for the 5th timestep.\n",
    "timesteps=5\n",
    "\n",
    "train_data_timesteps=np.array([[j for j in train_data[i:i+timesteps]] for i in range(0,len(train_data)-timesteps+1)])[:,:,0]\n",
    "\n",
    "test_data_timesteps=np.array([[j for j in test_data[i:i+timesteps]] for i in range(0,len(test_data)-timesteps+1)])[:,:,0]\n",
    "\n",
    "x_train, y_train = train_data_timesteps[:,:timesteps-1],train_data_timesteps[:,[timesteps-1]]\n",
    "x_test, y_test = test_data_timesteps[:,:timesteps-1],test_data_timesteps[:,[timesteps-1]]\n",
    "\n",
    "print(x_train.shape, y_train.shape)\n",
    "print(x_test.shape, y_test.shape)\n",
    "\n",
    "# hyperparameters tuning\n",
    "param_grid = {'C': [1], 'gamma': ['auto','scale',10000],'kernel': ['rbf','poly', 'sigmoid']}\n",
    "grid = SVR(C=1, gamma=10000)\n",
    "#GridSearchCV(SVR(),param_grid,refit=True,verbose=2)"
   ]
  },
  {
   "cell_type": "code",
   "execution_count": 36,
   "id": "54f6a0a8",
   "metadata": {},
   "outputs": [
    {
     "data": {
      "text/plain": [
       "SVR(C=1, gamma=10000)"
      ]
     },
     "execution_count": 36,
     "metadata": {},
     "output_type": "execute_result"
    }
   ],
   "source": [
    "grid.fit(x_train, y_train[:,0])"
   ]
  },
  {
   "cell_type": "code",
   "execution_count": 37,
   "id": "dab698bc",
   "metadata": {},
   "outputs": [],
   "source": [
    "#print(grid.best_estimator_)"
   ]
  },
  {
   "cell_type": "code",
   "execution_count": 38,
   "id": "a84eb8c0",
   "metadata": {},
   "outputs": [],
   "source": [
    "y_train_pred = grid.predict(x_train).reshape(-1,1)\n",
    "y_test_pred = grid.predict(x_test).reshape(-1,1)"
   ]
  },
  {
   "cell_type": "code",
   "execution_count": 39,
   "id": "30378b28",
   "metadata": {},
   "outputs": [
    {
     "data": {
      "text/plain": [
       "993"
      ]
     },
     "execution_count": 39,
     "metadata": {},
     "output_type": "execute_result"
    }
   ],
   "source": [
    "len(y_test_pred)"
   ]
  },
  {
   "cell_type": "code",
   "execution_count": 40,
   "id": "61cdb5f7",
   "metadata": {},
   "outputs": [
    {
     "name": "stdout",
     "output_type": "stream",
     "text": [
      "MSE for SVR  0.044789604973264674\n"
     ]
    }
   ],
   "source": [
    "mse_svr = np.square(np.subtract(y_test_pred, y_test)).mean()\n",
    "print('MSE for SVR ', mse_svr)"
   ]
  },
  {
   "cell_type": "markdown",
   "id": "3596811d",
   "metadata": {},
   "source": [
    "## MSE for GARCH:  0.033034330206868835\n",
    "## MSE for misspecified GARCH:  0.03997916389250524\n",
    "## MSE for SVR  0.044789604973264674"
   ]
  },
  {
   "cell_type": "code",
   "execution_count": null,
   "id": "898ed166",
   "metadata": {},
   "outputs": [],
   "source": []
  }
 ],
 "metadata": {
  "kernelspec": {
   "display_name": "Python 3 (ipykernel)",
   "language": "python",
   "name": "python3"
  },
  "language_info": {
   "codemirror_mode": {
    "name": "ipython",
    "version": 3
   },
   "file_extension": ".py",
   "mimetype": "text/x-python",
   "name": "python",
   "nbconvert_exporter": "python",
   "pygments_lexer": "ipython3",
   "version": "3.9.13"
  }
 },
 "nbformat": 4,
 "nbformat_minor": 5
}
