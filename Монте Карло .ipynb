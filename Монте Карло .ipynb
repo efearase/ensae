{
 "cells": [
  {
   "cell_type": "code",
   "execution_count": 127,
   "id": "f1f232b9",
   "metadata": {
    "scrolled": false
   },
   "outputs": [
    {
     "name": "stdout",
     "output_type": "stream",
     "text": [
      "[5, 4.699130162573031, 4.431122948918697, 3.497720201842458, 3.3760631661599327, 3.755375476203618, 3.419573954378954, 2.796886513906659, 2.777235501717933, 3.1580556221493934, 2.4704439074430713, 2.3725425322529956, 2.6705806178212033, 3.2145635435497653, 2.6937714113286177, 3.3697183174548515, 3.716114487769228, 4.621258674408149, 4.515040593054652, 4.402285620662201, 5.389344431435495, 5.697009334853544, 4.66204871675663, 3.9155971126639235, 3.754969555386724, 3.4249691871563663, 3.8224665112315166, 3.2298322405421405, 2.640385524690769, 2.2624823717317875, 1.8426018133379745, 1.4443325318730262, 1.9664606856028224, 2.0560834340992877, 2.1801443116134394, 2.6937068904717947, 1.5865452163924014, 1.9418206158323534, 1.1709414952882766, 1.2953298484464186, 1.7064609110312063, 1.4824346975104041, 1.6675510164381218, 1.096834282860865, 1.2457571181712295, 1.3046742612505289, 1.087472194377427, 0.9720325939937472, 0.35665234619928066, 0.6883114960907941, 0.6757809941610279, 0.29654534098553903, 0.4939482155079545, 0.5402726537475271, 0.7130441872304116, 0.5992668813975012, 0.5480825056238379, 0.8873524747583744, 0.7028466140863052, 0.4442160003118077, 0.7665323134446808, 0.28303971693906804, 0.5496908751130114, 0.5815999198386507, 0.9971138467552033]\n"
     ]
    }
   ],
   "source": [
    "def stock_path(S0, level, M=4):\n",
    "    h = T/np.power(M,level)\n",
    "    dW = np.random.normal(size = np.power(M, level)//T)\n",
    "    S = [S0]\n",
    "    for i in range(np.power(M, level)//T):\n",
    "        S_i = S[-1]+ a*(b-S[-1])*h + sigma*np.sqrt(S[-1])*dW[i]\n",
    "        S.append(S_i)\n",
    "    return S\n",
    "T=1\n",
    "a, b, sigma, S0, K = 0.15, 0.2, 0.3, 5, 4\n",
    "print(stock_path(S0, level=3, M=4))\n",
    "a, b = 0.15, 0.2"
   ]
  },
  {
   "cell_type": "code",
   "execution_count": 54,
   "id": "39109e9b",
   "metadata": {},
   "outputs": [],
   "source": [
    "def payoff_call(S, K):\n",
    "    return max(np.mean(S)-K, 0)\n",
    "def payoff_put(S, K):\n",
    "    return max(K-np.mean(S), 0)"
   ]
  },
  {
   "cell_type": "code",
   "execution_count": 137,
   "id": "33aae309",
   "metadata": {},
   "outputs": [],
   "source": [
    "import numpy as np\n",
    "\n",
    "def mlmc(f, eps):\n",
    "    \"\"\"\n",
    "    Multilevel Monte Carlo algorithm for computing E[f], where f is an expensive-to-evaluate function.\n",
    "    \n",
    "    Parameters:\n",
    "    -----------\n",
    "    f : function\n",
    "        The function to be aproximated.\n",
    "    L : int\n",
    "        The number of levels of refinement.\n",
    "    eps : float\n",
    "        The desired accuracy of the estimator.\n",
    "   \n",
    "    \n",
    "    Returns:\n",
    "    --------\n",
    "    payoffs : float\n",
    "        The estimated value of f.\n",
    "    \"\"\"\n",
    "    L = 0\n",
    "    Nl = 10**4\n",
    "    converged = False\n",
    "    V_L_sum = []\n",
    "    M=4\n",
    "    \n",
    "    while not converged:\n",
    "        print(L)\n",
    "        #print(1)\n",
    "        if L<2:\n",
    "\n",
    "            payoffs = []\n",
    "            for _ in range(Nl):\n",
    "                payoffs.append(f(stock_path(S0, level=L, M=4),K))\n",
    "\n",
    "            Y_hat = np.mean(payoffs)\n",
    "            V_L_hat = np.var(payoffs)\n",
    "            V_L_sum.append(V_L_hat)\n",
    "\n",
    "            Nl = int(2*eps**(-2)*(V_L_hat)**(0.5))\n",
    "            \n",
    "            Y_l_1 = Y_hat\n",
    "            L+=1\n",
    "\n",
    "        elif L>=2 and not converged:\n",
    "            \n",
    "            payoffs = []\n",
    "            prod = 0\n",
    "            for i in range(L):\n",
    "                prod+=np.sqrt(V_L_sum[i]*T/np.power(M,i))\n",
    "\n",
    "            Nl = int(2*eps**(-2)*np.sqrt(V_L_hat)*prod)\n",
    "\n",
    "            for _ in range(Nl):\n",
    "                payoffs.append(np.nan_to_num(f(stock_path(S0, level=L, M=4),K)))\n",
    "\n",
    "\n",
    "            Y_l_1 = Y_hat    \n",
    "            Y_hat = np.mean(payoffs[0:-1])\n",
    "            V_L_hat = np.var(payoffs)\n",
    "            \n",
    "            V_L_sum.append(V_L_hat)\n",
    "\n",
    "            if abs(Y_hat-Y_l_1)<1/np.sqrt(2)*(M**2-1)*eps:\n",
    "                \n",
    "                converged = True\n",
    "                \n",
    "            else:\n",
    "                \n",
    "                L+=1\n",
    "        \n",
    "        if L>15:\n",
    "            return payoffs\n",
    "            break\n",
    "        \n",
    "    return payoffs"
   ]
  },
  {
   "cell_type": "code",
   "execution_count": 138,
   "id": "aaada04d",
   "metadata": {
    "scrolled": false
   },
   "outputs": [
    {
     "name": "stdout",
     "output_type": "stream",
     "text": [
      "0\n",
      "1\n",
      "2\n"
     ]
    }
   ],
   "source": [
    "res = mlmc(f=payoff_call, eps=0.05)"
   ]
  },
  {
   "cell_type": "code",
   "execution_count": null,
   "id": "98671722",
   "metadata": {},
   "outputs": [],
   "source": [
    "print(np.mean(res))"
   ]
  },
  {
   "cell_type": "code",
   "execution_count": null,
   "id": "f771379f",
   "metadata": {},
   "outputs": [],
   "source": []
  },
  {
   "cell_type": "code",
   "execution_count": null,
   "id": "b537bee0",
   "metadata": {},
   "outputs": [],
   "source": []
  }
 ],
 "metadata": {
  "kernelspec": {
   "display_name": "Python 3 (ipykernel)",
   "language": "python",
   "name": "python3"
  },
  "language_info": {
   "codemirror_mode": {
    "name": "ipython",
    "version": 3
   },
   "file_extension": ".py",
   "mimetype": "text/x-python",
   "name": "python",
   "nbconvert_exporter": "python",
   "pygments_lexer": "ipython3",
   "version": "3.10.9"
  }
 },
 "nbformat": 4,
 "nbformat_minor": 5
}
